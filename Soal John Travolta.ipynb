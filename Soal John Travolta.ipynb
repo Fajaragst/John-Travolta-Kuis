{
 "cells": [
  {
   "cell_type": "markdown",
   "metadata": {},
   "source": [
    "//=============== Soal John Travolta\n",
    "\n",
    "Seoranga karyawan bernama john travolta bergaji mingguan. Gaji normal seminggu (untuk 40 jam), standarnya (“rate”) adalah: rp. 15.000,- /jam. Sedangakan untuk lembur (artinya kerja diatas 40 jam/minggu) dibayar satu setengah kali dari gaji normal per jam nya (“rate”).\n",
    "\n",
    "1\\) Bila Mr. John travolta pada minggu ini bekerja 52 jam, berapa gaji mr. John tersebut. Buat alogaritma + program menghitung gaji dengan nilai-nilai yang lain/variatif: (“bebas”).\n",
    "\n",
    "2\\) Bila pemasukan lebih besar dari pengeluaran maka, akan ditulis (di print), ”bisa menabung”. Bila pemasukan sama dengan pengeluaran maka, akan ditulis (di print), ”tidak bisa menabung”. Bila pemasukan sama kurang dari pengeluaran maka, akan ditulis (di print), ”cari tambahan”.\n",
    "\n",
    "pengeluaran mr. john selama seminggu ini adalah rp. 600.000. Apakah Mr. john bisa menabung atau tidak ??. bila bisa, berapa besar tabungannya untuk minggu ini. Buat alogaritma + program menghitung tabungan minggu ini dengan nilai-nilai yang lain/variatif (“bebas”)."
   ]
  },
  {
   "cell_type": "code",
   "execution_count": 1,
   "metadata": {},
   "outputs": [],
   "source": [
    "def uang_lembur(gaji, total_jam_kerja, jam_normal, rate_lembur):\n",
    "    selisih_jam = total_jam_kerja - jam_normal\n",
    "    return (gaji*rate_lembur) * (selisih_jam if selisih_jam > 0 else 0)"
   ]
  },
  {
   "cell_type": "code",
   "execution_count": 2,
   "metadata": {},
   "outputs": [],
   "source": [
    "def uang_normal(gaji, total_jam_kerja, jam_normal):\n",
    "    return (total_jam_kerja if total_jam_kerja <= jam_normal else 40) * gaji"
   ]
  },
  {
   "cell_type": "code",
   "execution_count": 3,
   "metadata": {},
   "outputs": [],
   "source": [
    "def rincian_gaji(gaji = 15000, rate_lembur = 1.5, jam_normal = 40, total_jam_kerja = 52):\n",
    "    lembur = uang_lembur(gaji, total_jam_kerja, jam_normal, rate_lembur)\n",
    "    normal = uang_normal(gaji, total_jam_kerja, jam_normal)\n",
    "    total = lembur + normal\n",
    "    return {\n",
    "        \"uang_lembur\" : lembur,\n",
    "        \"uang_normal\" : normal,\n",
    "        \"uang_total\": total\n",
    "    }"
   ]
  },
  {
   "cell_type": "code",
   "execution_count": 4,
   "metadata": {},
   "outputs": [],
   "source": [
    "def total_tabungan(gaji, keluar):\n",
    "    total = gaji - keluar\n",
    "    return total "
   ]
  },
  {
   "cell_type": "code",
   "execution_count": 5,
   "metadata": {},
   "outputs": [],
   "source": [
    "def menabung(gaji, keluar = 600000):\n",
    "    total = total_tabungan(gaji, keluar)\n",
    "    return {\n",
    "        \"total_menabung\" : total if total > 0 else 0,\n",
    "        \"keputusan_menabung\" : \"Dapat Menabung\" if total > 0 else (\"Tidak Dapat Menabung\" if total == 0 else \"Cari Tambahan\")\n",
    "    }"
   ]
  },
  {
   "cell_type": "markdown",
   "metadata": {},
   "source": [
    "1\\) Bila Mr. John travolta pada minggu ini bekerja 52 jam, berapa gaji mr. John tersebut. Buat alogaritma + program menghitung gaji dengan nilai-nilai yang lain/variatif: (“bebas”)."
   ]
  },
  {
   "cell_type": "code",
   "execution_count": 6,
   "metadata": {
    "scrolled": true
   },
   "outputs": [
    {
     "name": "stdout",
     "output_type": "stream",
     "text": [
      "Gaji Lembur John Travolta :  270000.0\n",
      "Gaji Normal John Travolta :  600000\n",
      "Gaji Total John Travolta :  870000.0\n"
     ]
    }
   ],
   "source": [
    "gaji = rincian_gaji()\n",
    "print(\"Gaji Lembur John Travolta : \", (gaji['uang_lembur']))\n",
    "print(\"Gaji Normal John Travolta : \", (gaji['uang_normal']))\n",
    "print(\"Gaji Total John Travolta : \", (gaji['uang_total']))"
   ]
  },
  {
   "cell_type": "markdown",
   "metadata": {},
   "source": [
    "2\\) Bila pemasukan lebih besar dari pengeluaran maka, akan ditulis (di print), ”bisa menabung”. Bila pemasukan sama dengan pengeluaran maka, akan ditulis (di print), ”tidak bisa menabung”. Bila pemasukan sama kurang dari pengeluaran maka, akan ditulis (di print), ”cari tambahan”."
   ]
  },
  {
   "cell_type": "code",
   "execution_count": 7,
   "metadata": {},
   "outputs": [
    {
     "name": "stdout",
     "output_type": "stream",
     "text": [
      "Apakah John Travolta dapat menabung:  Dapat Menabung\n",
      "Total menabung:  270000.0\n"
     ]
    }
   ],
   "source": [
    "bisa_nabung = menabung(gaji = gaji['uang_total'])\n",
    "print(\"Apakah John Travolta dapat menabung: \", bisa_nabung[\"keputusan_menabung\"])\n",
    "print(\"Total menabung: \", bisa_nabung[\"total_menabung\"])"
   ]
  }
 ],
 "metadata": {
  "kernelspec": {
   "display_name": "Python 3",
   "language": "python",
   "name": "python3"
  },
  "language_info": {
   "codemirror_mode": {
    "name": "ipython",
    "version": 3
   },
   "file_extension": ".py",
   "mimetype": "text/x-python",
   "name": "python",
   "nbconvert_exporter": "python",
   "pygments_lexer": "ipython3",
   "version": "3.8.3"
  }
 },
 "nbformat": 4,
 "nbformat_minor": 4
}
